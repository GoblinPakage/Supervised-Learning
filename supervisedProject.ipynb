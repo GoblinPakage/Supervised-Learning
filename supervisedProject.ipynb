{
  "nbformat": 4,
  "nbformat_minor": 0,
  "metadata": {
    "colab": {
      "provenance": []
    },
    "kernelspec": {
      "name": "python3",
      "display_name": "Python 3"
    },
    "language_info": {
      "name": "python"
    }
  },
  "cells": [
    {
      "cell_type": "markdown",
      "source": [
        "# Text classification with RNNs\n",
        "- Description of the dataset `GoEmotions`:\n",
        "\n",
        "The GoEmotions dataset contains 58k carefully curated Reddit comments labeled for 27 emotion categories or Neutral. The emotion categories are admiration, amusement, anger, annoyance, approval, caring, confusion, curiosity, desire, disappointment, disapproval, disgust, embarrassment, excitement, fear, gratitude, grief, joy, love, nervousness, optimism, pride, realization, relief, remorse, sadness, surprise.\n",
        "## Preamble: installing and importing packages"
      ],
      "metadata": {
        "id": "TKaHHeYBc5v_"
      }
    },
    {
      "cell_type": "code",
      "source": [
        "import numpy as np \n",
        "import scipy as sp\n",
        "import pandas as pd \n",
        "import matplotlib.pyplot as plt\n",
        "import skimage.io\n",
        "import seaborn as sns\n",
        "import plotly.express as px\n",
        "\n",
        "from IPython.display import display, HTML\n",
        "\n",
        "import tensorflow as tf\n",
        "import tensorflow_datasets as tfds\n",
        "\n",
        "import os\n",
        "import urllib"
      ],
      "metadata": {
        "id": "fYaGPbnmaX7c"
      },
      "execution_count": 1,
      "outputs": []
    },
    {
      "cell_type": "markdown",
      "source": [
        "Information About the dataset"
      ],
      "metadata": {
        "id": "dvJ_mXPxfp--"
      }
    },
    {
      "cell_type": "code",
      "source": [
        "builder = tfds.builder('goemotions')\n",
        "builder.info.description"
      ],
      "metadata": {
        "colab": {
          "base_uri": "https://localhost:8080/",
          "height": 70
        },
        "id": "RTXCG89TftnS",
        "outputId": "73658df1-b981-4e22-deae-31f985caea63"
      },
      "execution_count": 2,
      "outputs": [
        {
          "output_type": "execute_result",
          "data": {
            "text/plain": [
              "'The GoEmotions dataset contains 58k carefully curated Reddit comments labeled\\nfor 27 emotion categories or Neutral. The emotion categories are admiration,\\namusement, anger, annoyance, approval, caring, confusion, curiosity, desire,\\ndisappointment, disapproval, disgust, embarrassment, excitement, fear,\\ngratitude, grief, joy, love, nervousness, optimism, pride, realization, relief,\\nremorse, sadness, surprise.'"
            ],
            "application/vnd.google.colaboratory.intrinsic+json": {
              "type": "string"
            }
          },
          "metadata": {},
          "execution_count": 2
        }
      ]
    },
    {
      "cell_type": "code",
      "source": [
        "builder.info.features"
      ],
      "metadata": {
        "colab": {
          "base_uri": "https://localhost:8080/"
        },
        "id": "LhM5gDblgN-T",
        "outputId": "1541d55c-6236-40eb-861e-7aaec182bb25"
      },
      "execution_count": 3,
      "outputs": [
        {
          "output_type": "execute_result",
          "data": {
            "text/plain": [
              "FeaturesDict({\n",
              "    'admiration': tf.bool,\n",
              "    'amusement': tf.bool,\n",
              "    'anger': tf.bool,\n",
              "    'annoyance': tf.bool,\n",
              "    'approval': tf.bool,\n",
              "    'caring': tf.bool,\n",
              "    'comment_text': Text(shape=(), dtype=tf.string),\n",
              "    'confusion': tf.bool,\n",
              "    'curiosity': tf.bool,\n",
              "    'desire': tf.bool,\n",
              "    'disappointment': tf.bool,\n",
              "    'disapproval': tf.bool,\n",
              "    'disgust': tf.bool,\n",
              "    'embarrassment': tf.bool,\n",
              "    'excitement': tf.bool,\n",
              "    'fear': tf.bool,\n",
              "    'gratitude': tf.bool,\n",
              "    'grief': tf.bool,\n",
              "    'joy': tf.bool,\n",
              "    'love': tf.bool,\n",
              "    'nervousness': tf.bool,\n",
              "    'neutral': tf.bool,\n",
              "    'optimism': tf.bool,\n",
              "    'pride': tf.bool,\n",
              "    'realization': tf.bool,\n",
              "    'relief': tf.bool,\n",
              "    'remorse': tf.bool,\n",
              "    'sadness': tf.bool,\n",
              "    'surprise': tf.bool,\n",
              "})"
            ]
          },
          "metadata": {},
          "execution_count": 3
        }
      ]
    },
    {
      "cell_type": "markdown",
      "source": [
        "## Load a training dataset"
      ],
      "metadata": {
        "id": "2ybwUcbcdb5B"
      }
    },
    {
      "cell_type": "code",
      "source": [
        "train_tfds = tfds.load('goemotions', split='train', shuffle_files=True)\n",
        "train_tfds\n"
      ],
      "metadata": {
        "colab": {
          "base_uri": "https://localhost:8080/"
        },
        "id": "MDRid3udajGU",
        "outputId": "b701bccf-466c-4e33-d30d-b777458be3c5"
      },
      "execution_count": 4,
      "outputs": [
        {
          "output_type": "execute_result",
          "data": {
            "text/plain": [
              "<PrefetchDataset element_spec={'admiration': TensorSpec(shape=(), dtype=tf.bool, name=None), 'amusement': TensorSpec(shape=(), dtype=tf.bool, name=None), 'anger': TensorSpec(shape=(), dtype=tf.bool, name=None), 'annoyance': TensorSpec(shape=(), dtype=tf.bool, name=None), 'approval': TensorSpec(shape=(), dtype=tf.bool, name=None), 'caring': TensorSpec(shape=(), dtype=tf.bool, name=None), 'comment_text': TensorSpec(shape=(), dtype=tf.string, name=None), 'confusion': TensorSpec(shape=(), dtype=tf.bool, name=None), 'curiosity': TensorSpec(shape=(), dtype=tf.bool, name=None), 'desire': TensorSpec(shape=(), dtype=tf.bool, name=None), 'disappointment': TensorSpec(shape=(), dtype=tf.bool, name=None), 'disapproval': TensorSpec(shape=(), dtype=tf.bool, name=None), 'disgust': TensorSpec(shape=(), dtype=tf.bool, name=None), 'embarrassment': TensorSpec(shape=(), dtype=tf.bool, name=None), 'excitement': TensorSpec(shape=(), dtype=tf.bool, name=None), 'fear': TensorSpec(shape=(), dtype=tf.bool, name=None), 'gratitude': TensorSpec(shape=(), dtype=tf.bool, name=None), 'grief': TensorSpec(shape=(), dtype=tf.bool, name=None), 'joy': TensorSpec(shape=(), dtype=tf.bool, name=None), 'love': TensorSpec(shape=(), dtype=tf.bool, name=None), 'nervousness': TensorSpec(shape=(), dtype=tf.bool, name=None), 'neutral': TensorSpec(shape=(), dtype=tf.bool, name=None), 'optimism': TensorSpec(shape=(), dtype=tf.bool, name=None), 'pride': TensorSpec(shape=(), dtype=tf.bool, name=None), 'realization': TensorSpec(shape=(), dtype=tf.bool, name=None), 'relief': TensorSpec(shape=(), dtype=tf.bool, name=None), 'remorse': TensorSpec(shape=(), dtype=tf.bool, name=None), 'sadness': TensorSpec(shape=(), dtype=tf.bool, name=None), 'surprise': TensorSpec(shape=(), dtype=tf.bool, name=None)}>"
            ]
          },
          "metadata": {},
          "execution_count": 4
        }
      ]
    },
    {
      "cell_type": "code",
      "source": [
        "train_tfds = train_tfds.take(1)  # Only take a single example\n",
        "\n",
        "for example in train_tfds:  # example is `{'comment_text': tf.Tensor}`\n",
        "  print(list(example.keys()))\n",
        "  text = example[\"comment_text\"]\n",
        "  print(text)"
      ],
      "metadata": {
        "colab": {
          "base_uri": "https://localhost:8080/"
        },
        "id": "Wqir4iCZbYyF",
        "outputId": "987cbf68-0c47-4b46-ecbf-221797627abb"
      },
      "execution_count": 5,
      "outputs": [
        {
          "output_type": "stream",
          "name": "stdout",
          "text": [
            "['admiration', 'amusement', 'anger', 'annoyance', 'approval', 'caring', 'comment_text', 'confusion', 'curiosity', 'desire', 'disappointment', 'disapproval', 'disgust', 'embarrassment', 'excitement', 'fear', 'gratitude', 'grief', 'joy', 'love', 'nervousness', 'neutral', 'optimism', 'pride', 'realization', 'relief', 'remorse', 'sadness', 'surprise']\n",
            "tf.Tensor(b\"It's just wholesome content, from questionable sources\", shape=(), dtype=string)\n"
          ]
        }
      ]
    },
    {
      "cell_type": "code",
      "source": [
        "train_tfds.cardinality()"
      ],
      "metadata": {
        "colab": {
          "base_uri": "https://localhost:8080/"
        },
        "id": "2ltN1rDpg69s",
        "outputId": "d8d0f4df-1dd8-4ff8-8807-82d017bcbf2e"
      },
      "execution_count": 6,
      "outputs": [
        {
          "output_type": "execute_result",
          "data": {
            "text/plain": [
              "<tf.Tensor: shape=(), dtype=int64, numpy=1>"
            ]
          },
          "metadata": {},
          "execution_count": 6
        }
      ]
    },
    {
      "cell_type": "code",
      "source": [
        "#comments_labels = train_tfds[['admiration', 'amusement', 'anger', 'annoyance', 'approval', 'caring', 'confusion', 'curiosity', 'desire', 'disappointment', 'disapproval', 'disgust', 'embarrassment', 'excitement', 'fear', 'gratitude', 'grief', 'joy', 'love', 'nervousness', 'neutral', 'optimism', 'pride', 'realization', 'relief', 'remorse', 'sadness', 'surprise']]\n",
        "#comments_labels.head()"
      ],
      "metadata": {
        "id": "fVTH7hf63Nyw"
      },
      "execution_count": 7,
      "outputs": []
    },
    {
      "cell_type": "markdown",
      "source": [
        "## TODO Loading validation data"
      ],
      "metadata": {
        "id": "eeUZaORBj_mG"
      }
    },
    {
      "cell_type": "code",
      "source": [
        "val_tfds = tfds.load('goemotions', split='validation', shuffle_files=True)\n",
        "val_tfds"
      ],
      "metadata": {
        "colab": {
          "base_uri": "https://localhost:8080/"
        },
        "id": "xy4yT4WJkAGJ",
        "outputId": "7b199bd2-dc10-4fde-9f57-996096ee04c8"
      },
      "execution_count": 8,
      "outputs": [
        {
          "output_type": "execute_result",
          "data": {
            "text/plain": [
              "<PrefetchDataset element_spec={'admiration': TensorSpec(shape=(), dtype=tf.bool, name=None), 'amusement': TensorSpec(shape=(), dtype=tf.bool, name=None), 'anger': TensorSpec(shape=(), dtype=tf.bool, name=None), 'annoyance': TensorSpec(shape=(), dtype=tf.bool, name=None), 'approval': TensorSpec(shape=(), dtype=tf.bool, name=None), 'caring': TensorSpec(shape=(), dtype=tf.bool, name=None), 'comment_text': TensorSpec(shape=(), dtype=tf.string, name=None), 'confusion': TensorSpec(shape=(), dtype=tf.bool, name=None), 'curiosity': TensorSpec(shape=(), dtype=tf.bool, name=None), 'desire': TensorSpec(shape=(), dtype=tf.bool, name=None), 'disappointment': TensorSpec(shape=(), dtype=tf.bool, name=None), 'disapproval': TensorSpec(shape=(), dtype=tf.bool, name=None), 'disgust': TensorSpec(shape=(), dtype=tf.bool, name=None), 'embarrassment': TensorSpec(shape=(), dtype=tf.bool, name=None), 'excitement': TensorSpec(shape=(), dtype=tf.bool, name=None), 'fear': TensorSpec(shape=(), dtype=tf.bool, name=None), 'gratitude': TensorSpec(shape=(), dtype=tf.bool, name=None), 'grief': TensorSpec(shape=(), dtype=tf.bool, name=None), 'joy': TensorSpec(shape=(), dtype=tf.bool, name=None), 'love': TensorSpec(shape=(), dtype=tf.bool, name=None), 'nervousness': TensorSpec(shape=(), dtype=tf.bool, name=None), 'neutral': TensorSpec(shape=(), dtype=tf.bool, name=None), 'optimism': TensorSpec(shape=(), dtype=tf.bool, name=None), 'pride': TensorSpec(shape=(), dtype=tf.bool, name=None), 'realization': TensorSpec(shape=(), dtype=tf.bool, name=None), 'relief': TensorSpec(shape=(), dtype=tf.bool, name=None), 'remorse': TensorSpec(shape=(), dtype=tf.bool, name=None), 'sadness': TensorSpec(shape=(), dtype=tf.bool, name=None), 'surprise': TensorSpec(shape=(), dtype=tf.bool, name=None)}>"
            ]
          },
          "metadata": {},
          "execution_count": 8
        }
      ]
    },
    {
      "cell_type": "markdown",
      "source": [
        "Check how many validation batches we have:"
      ],
      "metadata": {
        "id": "697q1MJSkPVW"
      }
    },
    {
      "cell_type": "code",
      "source": [
        "val_tfds.cardinality()"
      ],
      "metadata": {
        "colab": {
          "base_uri": "https://localhost:8080/"
        },
        "id": "XzFcuNwhkP0Z",
        "outputId": "e61e910d-1549-4b1f-8156-61e428ea7eba"
      },
      "execution_count": 9,
      "outputs": [
        {
          "output_type": "execute_result",
          "data": {
            "text/plain": [
              "<tf.Tensor: shape=(), dtype=int64, numpy=5426>"
            ]
          },
          "metadata": {},
          "execution_count": 9
        }
      ]
    },
    {
      "cell_type": "markdown",
      "source": [
        "# Text encoding layers"
      ],
      "metadata": {
        "id": "uRjXwc_yzp2J"
      }
    },
    {
      "cell_type": "markdown",
      "source": [
        "## Text vectorization"
      ],
      "metadata": {
        "id": "r6TI9bBezv4y"
      }
    },
    {
      "cell_type": "markdown",
      "source": [
        "#### TODO Creating and fitting the vectorizer"
      ],
      "metadata": {
        "id": "o_VxeluMkpFa"
      }
    },
    {
      "cell_type": "code",
      "source": [
        "VOCAB_SIZE = 1000\n",
        "# set the max_tokens argument to VOCAB_SIZE\n",
        "encoder = tf.keras.layers.TextVectorization(\n",
        "    max_tokens=VOCAB_SIZE,\n",
        "    standardize='lower_and_strip_punctuation',\n",
        "    split='whitespace',\n",
        "    ngrams=None,\n",
        "    output_mode='int',\n",
        "    output_sequence_length=None,\n",
        "    pad_to_max_tokens=False,\n",
        "    vocabulary=None,\n",
        "    idf_weights=None,\n",
        "    sparse=False,\n",
        "    ragged=False\n",
        "    )\n",
        "\n",
        "encoder"
      ],
      "metadata": {
        "colab": {
          "base_uri": "https://localhost:8080/"
        },
        "id": "XC5Zb95dkp3n",
        "outputId": "2e33df08-d27b-4b9b-a24d-599fc9d004ac"
      },
      "execution_count": 10,
      "outputs": [
        {
          "output_type": "execute_result",
          "data": {
            "text/plain": [
              "<keras.layers.preprocessing.text_vectorization.TextVectorization at 0x7ff6eb2316a0>"
            ]
          },
          "metadata": {},
          "execution_count": 10
        }
      ]
    },
    {
      "cell_type": "markdown",
      "source": [
        "We then need to train `encoder` (our vectorizer) on our training texts. This encoder is fitted in an **unsupervised** manner: we only use the texts, not the labels. Moreover, this encoder needs to be fully fitted prior to training of any subsequent NN models (since it defines the vector space on which NN models will work).\n",
        "In keras, this type of training uses a different method: `.adapt` (instead of `fit`). \n",
        "\n",
        "`.adapt` must receive a different version of the dataset, that only contains the review text and does not contain any labels. We can do this transformation using the method `.as_dataframe`:\n",
        "\n"
      ],
      "metadata": {
        "id": "-jfL_dH2kzYh"
      }
    },
    {
      "cell_type": "code",
      "source": [
        "df = tfds.as_dataframe(train_tfds)\n",
        "comments_labels= df[['admiration', 'amusement', 'anger', 'annoyance', 'approval', 'caring', 'confusion', 'curiosity', 'desire', 'disappointment', 'disapproval', 'disgust', 'embarrassment', 'excitement', 'fear', 'gratitude', 'grief', 'joy', 'love', 'nervousness', 'neutral', 'optimism', 'pride', 'realization', 'relief', 'remorse', 'sadness', 'surprise']]\n",
        "train_tfds_txt= df[\"comment_text\"]\n",
        "#y = comments_labels.values\n",
        "#train_tfds_txt = train_tfds.map(lambda text, example: text )"
      ],
      "metadata": {
        "id": "P4jwB2WXksru"
      },
      "execution_count": 17,
      "outputs": []
    },
    {
      "cell_type": "markdown",
      "source": [
        "Now we can pass the text only dataset to the layer's `.adapt` method:"
      ],
      "metadata": {
        "id": "FimZ8ULUlubv"
      }
    },
    {
      "cell_type": "code",
      "source": [
        "encoder.adapt(train_tfds_txt)"
      ],
      "metadata": {
        "id": "UpVuQhp1p7Ld"
      },
      "execution_count": 18,
      "outputs": []
    },
    {
      "cell_type": "markdown",
      "source": [
        "#### Checking the vocabulary\n",
        "The `.adapt` method sets the layer's **vocabulary**. Here are the first 50 tokens. \n",
        "- the first is an empty string token, corresponding to zero-padded sequence positions\n",
        "- the second `[UNK]` stands for any unkknown tokens, all encoded with value 1.\n",
        "- the remaining tokens are words sorted by frequency of appearence in the text corpus"
      ],
      "metadata": {
        "id": "Nab-Vl3T885K"
      }
    },
    {
      "cell_type": "code",
      "source": [
        "vocab = np.array(encoder.get_vocabulary())\n",
        "vocab[:50]"
      ],
      "metadata": {
        "id": "KByIDkfOltVX",
        "colab": {
          "base_uri": "https://localhost:8080/"
        },
        "outputId": "f40208e3-401e-4579-c822-ad66f7ac31a3"
      },
      "execution_count": 19,
      "outputs": [
        {
          "output_type": "execute_result",
          "data": {
            "text/plain": [
              "array(['', '[UNK]', 'wholesome', 'sources', 'questionable', 'just', 'its',\n",
              "       'from', 'content'], dtype='<U12')"
            ]
          },
          "metadata": {},
          "execution_count": 19
        }
      ]
    },
    {
      "cell_type": "code",
      "source": [],
      "metadata": {
        "id": "_nWdrI_I9CWq"
      },
      "execution_count": null,
      "outputs": []
    }
  ]
}